{
 "cells": [
  {
   "cell_type": "markdown",
   "id": "0e081973",
   "metadata": {
    "papermill": {
     "duration": 0.011485,
     "end_time": "2024-01-17T12:37:31.838617",
     "exception": false,
     "start_time": "2024-01-17T12:37:31.827132",
     "status": "completed"
    },
    "tags": []
   },
   "source": [
    "# A Convolutional Neural Network Model for Credit Card Fraud Detection"
   ]
  },
  {
   "cell_type": "markdown",
   "id": "0f1b3644",
   "metadata": {
    "papermill": {
     "duration": 0.010874,
     "end_time": "2024-01-17T12:37:31.861024",
     "exception": false,
     "start_time": "2024-01-17T12:37:31.850150",
     "status": "completed"
    },
    "tags": []
   },
   "source": [
    "## Importing the libraries"
   ]
  },
  {
   "cell_type": "code",
   "execution_count": 1,
   "id": "d33df564",
   "metadata": {
    "execution": {
     "iopub.execute_input": "2024-01-17T12:37:31.886111Z",
     "iopub.status.busy": "2024-01-17T12:37:31.885614Z",
     "iopub.status.idle": "2024-01-17T12:37:50.433080Z",
     "shell.execute_reply": "2024-01-17T12:37:50.432143Z"
    },
    "papermill": {
     "duration": 18.56274,
     "end_time": "2024-01-17T12:37:50.435617",
     "exception": false,
     "start_time": "2024-01-17T12:37:31.872877",
     "status": "completed"
    },
    "tags": []
   },
   "outputs": [],
   "source": [
    "import numpy as np\n",
    "import pandas as pd\n",
    "import matplotlib.pyplot as plt\n",
    "import seaborn as sns\n",
    "from tqdm import tqdm\n",
    "import os\n",
    "\n",
    "import torch\n",
    "from torch import nn, optim\n",
    "import torch.nn.functional as F\n",
    "from torch.utils.data import TensorDataset\n",
    "from torchvision import transforms\n",
    "\n",
    "from tensorflow.keras.models import Sequential, load_model\n",
    "from tensorflow.keras.optimizers import Adam\n",
    "from tensorflow.keras.layers import Conv1D, BatchNormalization, MaxPooling1D, Dropout, Flatten, Dense\n",
    "from sklearn.preprocessing import StandardScaler\n",
    "from sklearn.preprocessing import OneHotEncoder\n",
    "from sklearn.metrics import accuracy_score, f1_score, classification_report, confusion_matrix, precision_score, recall_score\n",
    "from sklearn.model_selection import train_test_split\n",
    "from tensorflow.keras.callbacks import ModelCheckpoint"
   ]
  },
  {
   "cell_type": "markdown",
   "id": "30fa09d4",
   "metadata": {
    "papermill": {
     "duration": 0.011044,
     "end_time": "2024-01-17T12:37:50.458107",
     "exception": false,
     "start_time": "2024-01-17T12:37:50.447063",
     "status": "completed"
    },
    "tags": []
   },
   "source": [
    "## Setting up the GPU"
   ]
  },
  {
   "cell_type": "code",
   "execution_count": 2,
   "id": "bb231c04",
   "metadata": {
    "execution": {
     "iopub.execute_input": "2024-01-17T12:37:50.483446Z",
     "iopub.status.busy": "2024-01-17T12:37:50.482699Z",
     "iopub.status.idle": "2024-01-17T12:37:50.488985Z",
     "shell.execute_reply": "2024-01-17T12:37:50.487916Z"
    },
    "papermill": {
     "duration": 0.021944,
     "end_time": "2024-01-17T12:37:50.491377",
     "exception": false,
     "start_time": "2024-01-17T12:37:50.469433",
     "status": "completed"
    },
    "tags": []
   },
   "outputs": [
    {
     "name": "stdout",
     "output_type": "stream",
     "text": [
      "cpu\n"
     ]
    }
   ],
   "source": [
    "device = torch.device(\"cuda\") if torch.cuda.is_available() else torch.device(\"cpu\")\n",
    "print(device)"
   ]
  },
  {
   "cell_type": "markdown",
   "id": "0a4e0507",
   "metadata": {
    "papermill": {
     "duration": 0.011079,
     "end_time": "2024-01-17T12:37:50.513855",
     "exception": false,
     "start_time": "2024-01-17T12:37:50.502776",
     "status": "completed"
    },
    "tags": []
   },
   "source": [
    "## Loading the Dataset"
   ]
  },
  {
   "cell_type": "code",
   "execution_count": 3,
   "id": "27b0c251",
   "metadata": {
    "execution": {
     "iopub.execute_input": "2024-01-17T12:37:50.538795Z",
     "iopub.status.busy": "2024-01-17T12:37:50.537867Z",
     "iopub.status.idle": "2024-01-17T12:37:54.833702Z",
     "shell.execute_reply": "2024-01-17T12:37:54.832892Z"
    },
    "papermill": {
     "duration": 4.310915,
     "end_time": "2024-01-17T12:37:54.836097",
     "exception": false,
     "start_time": "2024-01-17T12:37:50.525182",
     "status": "completed"
    },
    "tags": []
   },
   "outputs": [],
   "source": [
    "# modify the root_dir to the path of the dataset\n",
    "root_dir =  '/kaggle/input/creditcardfraud/creditcard.csv'\n",
    "data = pd.read_csv(root_dir)"
   ]
  },
  {
   "cell_type": "code",
   "execution_count": 4,
   "id": "b3cbe482",
   "metadata": {
    "execution": {
     "iopub.execute_input": "2024-01-17T12:37:54.861024Z",
     "iopub.status.busy": "2024-01-17T12:37:54.860343Z",
     "iopub.status.idle": "2024-01-17T12:37:54.899408Z",
     "shell.execute_reply": "2024-01-17T12:37:54.898377Z"
    },
    "papermill": {
     "duration": 0.053952,
     "end_time": "2024-01-17T12:37:54.901583",
     "exception": false,
     "start_time": "2024-01-17T12:37:54.847631",
     "status": "completed"
    },
    "tags": []
   },
   "outputs": [
    {
     "data": {
      "text/html": [
       "<div>\n",
       "<style scoped>\n",
       "    .dataframe tbody tr th:only-of-type {\n",
       "        vertical-align: middle;\n",
       "    }\n",
       "\n",
       "    .dataframe tbody tr th {\n",
       "        vertical-align: top;\n",
       "    }\n",
       "\n",
       "    .dataframe thead th {\n",
       "        text-align: right;\n",
       "    }\n",
       "</style>\n",
       "<table border=\"1\" class=\"dataframe\">\n",
       "  <thead>\n",
       "    <tr style=\"text-align: right;\">\n",
       "      <th></th>\n",
       "      <th>Time</th>\n",
       "      <th>V1</th>\n",
       "      <th>V2</th>\n",
       "      <th>V3</th>\n",
       "      <th>V4</th>\n",
       "      <th>V5</th>\n",
       "      <th>V6</th>\n",
       "      <th>V7</th>\n",
       "      <th>V8</th>\n",
       "      <th>V9</th>\n",
       "      <th>...</th>\n",
       "      <th>V21</th>\n",
       "      <th>V22</th>\n",
       "      <th>V23</th>\n",
       "      <th>V24</th>\n",
       "      <th>V25</th>\n",
       "      <th>V26</th>\n",
       "      <th>V27</th>\n",
       "      <th>V28</th>\n",
       "      <th>Amount</th>\n",
       "      <th>Class</th>\n",
       "    </tr>\n",
       "  </thead>\n",
       "  <tbody>\n",
       "    <tr>\n",
       "      <th>0</th>\n",
       "      <td>0.0</td>\n",
       "      <td>-1.359807</td>\n",
       "      <td>-0.072781</td>\n",
       "      <td>2.536347</td>\n",
       "      <td>1.378155</td>\n",
       "      <td>-0.338321</td>\n",
       "      <td>0.462388</td>\n",
       "      <td>0.239599</td>\n",
       "      <td>0.098698</td>\n",
       "      <td>0.363787</td>\n",
       "      <td>...</td>\n",
       "      <td>-0.018307</td>\n",
       "      <td>0.277838</td>\n",
       "      <td>-0.110474</td>\n",
       "      <td>0.066928</td>\n",
       "      <td>0.128539</td>\n",
       "      <td>-0.189115</td>\n",
       "      <td>0.133558</td>\n",
       "      <td>-0.021053</td>\n",
       "      <td>149.62</td>\n",
       "      <td>0</td>\n",
       "    </tr>\n",
       "    <tr>\n",
       "      <th>1</th>\n",
       "      <td>0.0</td>\n",
       "      <td>1.191857</td>\n",
       "      <td>0.266151</td>\n",
       "      <td>0.166480</td>\n",
       "      <td>0.448154</td>\n",
       "      <td>0.060018</td>\n",
       "      <td>-0.082361</td>\n",
       "      <td>-0.078803</td>\n",
       "      <td>0.085102</td>\n",
       "      <td>-0.255425</td>\n",
       "      <td>...</td>\n",
       "      <td>-0.225775</td>\n",
       "      <td>-0.638672</td>\n",
       "      <td>0.101288</td>\n",
       "      <td>-0.339846</td>\n",
       "      <td>0.167170</td>\n",
       "      <td>0.125895</td>\n",
       "      <td>-0.008983</td>\n",
       "      <td>0.014724</td>\n",
       "      <td>2.69</td>\n",
       "      <td>0</td>\n",
       "    </tr>\n",
       "    <tr>\n",
       "      <th>2</th>\n",
       "      <td>1.0</td>\n",
       "      <td>-1.358354</td>\n",
       "      <td>-1.340163</td>\n",
       "      <td>1.773209</td>\n",
       "      <td>0.379780</td>\n",
       "      <td>-0.503198</td>\n",
       "      <td>1.800499</td>\n",
       "      <td>0.791461</td>\n",
       "      <td>0.247676</td>\n",
       "      <td>-1.514654</td>\n",
       "      <td>...</td>\n",
       "      <td>0.247998</td>\n",
       "      <td>0.771679</td>\n",
       "      <td>0.909412</td>\n",
       "      <td>-0.689281</td>\n",
       "      <td>-0.327642</td>\n",
       "      <td>-0.139097</td>\n",
       "      <td>-0.055353</td>\n",
       "      <td>-0.059752</td>\n",
       "      <td>378.66</td>\n",
       "      <td>0</td>\n",
       "    </tr>\n",
       "    <tr>\n",
       "      <th>3</th>\n",
       "      <td>1.0</td>\n",
       "      <td>-0.966272</td>\n",
       "      <td>-0.185226</td>\n",
       "      <td>1.792993</td>\n",
       "      <td>-0.863291</td>\n",
       "      <td>-0.010309</td>\n",
       "      <td>1.247203</td>\n",
       "      <td>0.237609</td>\n",
       "      <td>0.377436</td>\n",
       "      <td>-1.387024</td>\n",
       "      <td>...</td>\n",
       "      <td>-0.108300</td>\n",
       "      <td>0.005274</td>\n",
       "      <td>-0.190321</td>\n",
       "      <td>-1.175575</td>\n",
       "      <td>0.647376</td>\n",
       "      <td>-0.221929</td>\n",
       "      <td>0.062723</td>\n",
       "      <td>0.061458</td>\n",
       "      <td>123.50</td>\n",
       "      <td>0</td>\n",
       "    </tr>\n",
       "    <tr>\n",
       "      <th>4</th>\n",
       "      <td>2.0</td>\n",
       "      <td>-1.158233</td>\n",
       "      <td>0.877737</td>\n",
       "      <td>1.548718</td>\n",
       "      <td>0.403034</td>\n",
       "      <td>-0.407193</td>\n",
       "      <td>0.095921</td>\n",
       "      <td>0.592941</td>\n",
       "      <td>-0.270533</td>\n",
       "      <td>0.817739</td>\n",
       "      <td>...</td>\n",
       "      <td>-0.009431</td>\n",
       "      <td>0.798278</td>\n",
       "      <td>-0.137458</td>\n",
       "      <td>0.141267</td>\n",
       "      <td>-0.206010</td>\n",
       "      <td>0.502292</td>\n",
       "      <td>0.219422</td>\n",
       "      <td>0.215153</td>\n",
       "      <td>69.99</td>\n",
       "      <td>0</td>\n",
       "    </tr>\n",
       "  </tbody>\n",
       "</table>\n",
       "<p>5 rows × 31 columns</p>\n",
       "</div>"
      ],
      "text/plain": [
       "   Time        V1        V2        V3        V4        V5        V6        V7  \\\n",
       "0   0.0 -1.359807 -0.072781  2.536347  1.378155 -0.338321  0.462388  0.239599   \n",
       "1   0.0  1.191857  0.266151  0.166480  0.448154  0.060018 -0.082361 -0.078803   \n",
       "2   1.0 -1.358354 -1.340163  1.773209  0.379780 -0.503198  1.800499  0.791461   \n",
       "3   1.0 -0.966272 -0.185226  1.792993 -0.863291 -0.010309  1.247203  0.237609   \n",
       "4   2.0 -1.158233  0.877737  1.548718  0.403034 -0.407193  0.095921  0.592941   \n",
       "\n",
       "         V8        V9  ...       V21       V22       V23       V24       V25  \\\n",
       "0  0.098698  0.363787  ... -0.018307  0.277838 -0.110474  0.066928  0.128539   \n",
       "1  0.085102 -0.255425  ... -0.225775 -0.638672  0.101288 -0.339846  0.167170   \n",
       "2  0.247676 -1.514654  ...  0.247998  0.771679  0.909412 -0.689281 -0.327642   \n",
       "3  0.377436 -1.387024  ... -0.108300  0.005274 -0.190321 -1.175575  0.647376   \n",
       "4 -0.270533  0.817739  ... -0.009431  0.798278 -0.137458  0.141267 -0.206010   \n",
       "\n",
       "        V26       V27       V28  Amount  Class  \n",
       "0 -0.189115  0.133558 -0.021053  149.62      0  \n",
       "1  0.125895 -0.008983  0.014724    2.69      0  \n",
       "2 -0.139097 -0.055353 -0.059752  378.66      0  \n",
       "3 -0.221929  0.062723  0.061458  123.50      0  \n",
       "4  0.502292  0.219422  0.215153   69.99      0  \n",
       "\n",
       "[5 rows x 31 columns]"
      ]
     },
     "execution_count": 4,
     "metadata": {},
     "output_type": "execute_result"
    }
   ],
   "source": [
    "data.head()"
   ]
  },
  {
   "cell_type": "code",
   "execution_count": 5,
   "id": "25d6347d",
   "metadata": {
    "execution": {
     "iopub.execute_input": "2024-01-17T12:37:54.926677Z",
     "iopub.status.busy": "2024-01-17T12:37:54.926246Z",
     "iopub.status.idle": "2024-01-17T12:37:54.971091Z",
     "shell.execute_reply": "2024-01-17T12:37:54.969593Z"
    },
    "papermill": {
     "duration": 0.060312,
     "end_time": "2024-01-17T12:37:54.973672",
     "exception": false,
     "start_time": "2024-01-17T12:37:54.913360",
     "status": "completed"
    },
    "tags": []
   },
   "outputs": [
    {
     "name": "stdout",
     "output_type": "stream",
     "text": [
      "<class 'pandas.core.frame.DataFrame'>\n",
      "RangeIndex: 284807 entries, 0 to 284806\n",
      "Data columns (total 31 columns):\n",
      " #   Column  Non-Null Count   Dtype  \n",
      "---  ------  --------------   -----  \n",
      " 0   Time    284807 non-null  float64\n",
      " 1   V1      284807 non-null  float64\n",
      " 2   V2      284807 non-null  float64\n",
      " 3   V3      284807 non-null  float64\n",
      " 4   V4      284807 non-null  float64\n",
      " 5   V5      284807 non-null  float64\n",
      " 6   V6      284807 non-null  float64\n",
      " 7   V7      284807 non-null  float64\n",
      " 8   V8      284807 non-null  float64\n",
      " 9   V9      284807 non-null  float64\n",
      " 10  V10     284807 non-null  float64\n",
      " 11  V11     284807 non-null  float64\n",
      " 12  V12     284807 non-null  float64\n",
      " 13  V13     284807 non-null  float64\n",
      " 14  V14     284807 non-null  float64\n",
      " 15  V15     284807 non-null  float64\n",
      " 16  V16     284807 non-null  float64\n",
      " 17  V17     284807 non-null  float64\n",
      " 18  V18     284807 non-null  float64\n",
      " 19  V19     284807 non-null  float64\n",
      " 20  V20     284807 non-null  float64\n",
      " 21  V21     284807 non-null  float64\n",
      " 22  V22     284807 non-null  float64\n",
      " 23  V23     284807 non-null  float64\n",
      " 24  V24     284807 non-null  float64\n",
      " 25  V25     284807 non-null  float64\n",
      " 26  V26     284807 non-null  float64\n",
      " 27  V27     284807 non-null  float64\n",
      " 28  V28     284807 non-null  float64\n",
      " 29  Amount  284807 non-null  float64\n",
      " 30  Class   284807 non-null  int64  \n",
      "dtypes: float64(30), int64(1)\n",
      "memory usage: 67.4 MB\n"
     ]
    }
   ],
   "source": [
    "data.info()"
   ]
  },
  {
   "cell_type": "code",
   "execution_count": 6,
   "id": "602979cc",
   "metadata": {
    "execution": {
     "iopub.execute_input": "2024-01-17T12:37:54.999232Z",
     "iopub.status.busy": "2024-01-17T12:37:54.998827Z",
     "iopub.status.idle": "2024-01-17T12:37:55.449820Z",
     "shell.execute_reply": "2024-01-17T12:37:55.449044Z"
    },
    "papermill": {
     "duration": 0.466157,
     "end_time": "2024-01-17T12:37:55.451696",
     "exception": false,
     "start_time": "2024-01-17T12:37:54.985539",
     "status": "completed"
    },
    "tags": []
   },
   "outputs": [
    {
     "data": {
      "text/html": [
       "<div>\n",
       "<style scoped>\n",
       "    .dataframe tbody tr th:only-of-type {\n",
       "        vertical-align: middle;\n",
       "    }\n",
       "\n",
       "    .dataframe tbody tr th {\n",
       "        vertical-align: top;\n",
       "    }\n",
       "\n",
       "    .dataframe thead th {\n",
       "        text-align: right;\n",
       "    }\n",
       "</style>\n",
       "<table border=\"1\" class=\"dataframe\">\n",
       "  <thead>\n",
       "    <tr style=\"text-align: right;\">\n",
       "      <th></th>\n",
       "      <th>Time</th>\n",
       "      <th>V1</th>\n",
       "      <th>V2</th>\n",
       "      <th>V3</th>\n",
       "      <th>V4</th>\n",
       "      <th>V5</th>\n",
       "      <th>V6</th>\n",
       "      <th>V7</th>\n",
       "      <th>V8</th>\n",
       "      <th>V9</th>\n",
       "      <th>...</th>\n",
       "      <th>V21</th>\n",
       "      <th>V22</th>\n",
       "      <th>V23</th>\n",
       "      <th>V24</th>\n",
       "      <th>V25</th>\n",
       "      <th>V26</th>\n",
       "      <th>V27</th>\n",
       "      <th>V28</th>\n",
       "      <th>Amount</th>\n",
       "      <th>Class</th>\n",
       "    </tr>\n",
       "  </thead>\n",
       "  <tbody>\n",
       "    <tr>\n",
       "      <th>count</th>\n",
       "      <td>284807.000000</td>\n",
       "      <td>2.848070e+05</td>\n",
       "      <td>2.848070e+05</td>\n",
       "      <td>2.848070e+05</td>\n",
       "      <td>2.848070e+05</td>\n",
       "      <td>2.848070e+05</td>\n",
       "      <td>2.848070e+05</td>\n",
       "      <td>2.848070e+05</td>\n",
       "      <td>2.848070e+05</td>\n",
       "      <td>2.848070e+05</td>\n",
       "      <td>...</td>\n",
       "      <td>2.848070e+05</td>\n",
       "      <td>2.848070e+05</td>\n",
       "      <td>2.848070e+05</td>\n",
       "      <td>2.848070e+05</td>\n",
       "      <td>2.848070e+05</td>\n",
       "      <td>2.848070e+05</td>\n",
       "      <td>2.848070e+05</td>\n",
       "      <td>2.848070e+05</td>\n",
       "      <td>284807.000000</td>\n",
       "      <td>284807.000000</td>\n",
       "    </tr>\n",
       "    <tr>\n",
       "      <th>mean</th>\n",
       "      <td>94813.859575</td>\n",
       "      <td>1.168375e-15</td>\n",
       "      <td>3.416908e-16</td>\n",
       "      <td>-1.379537e-15</td>\n",
       "      <td>2.074095e-15</td>\n",
       "      <td>9.604066e-16</td>\n",
       "      <td>1.487313e-15</td>\n",
       "      <td>-5.556467e-16</td>\n",
       "      <td>1.213481e-16</td>\n",
       "      <td>-2.406331e-15</td>\n",
       "      <td>...</td>\n",
       "      <td>1.654067e-16</td>\n",
       "      <td>-3.568593e-16</td>\n",
       "      <td>2.578648e-16</td>\n",
       "      <td>4.473266e-15</td>\n",
       "      <td>5.340915e-16</td>\n",
       "      <td>1.683437e-15</td>\n",
       "      <td>-3.660091e-16</td>\n",
       "      <td>-1.227390e-16</td>\n",
       "      <td>88.349619</td>\n",
       "      <td>0.001727</td>\n",
       "    </tr>\n",
       "    <tr>\n",
       "      <th>std</th>\n",
       "      <td>47488.145955</td>\n",
       "      <td>1.958696e+00</td>\n",
       "      <td>1.651309e+00</td>\n",
       "      <td>1.516255e+00</td>\n",
       "      <td>1.415869e+00</td>\n",
       "      <td>1.380247e+00</td>\n",
       "      <td>1.332271e+00</td>\n",
       "      <td>1.237094e+00</td>\n",
       "      <td>1.194353e+00</td>\n",
       "      <td>1.098632e+00</td>\n",
       "      <td>...</td>\n",
       "      <td>7.345240e-01</td>\n",
       "      <td>7.257016e-01</td>\n",
       "      <td>6.244603e-01</td>\n",
       "      <td>6.056471e-01</td>\n",
       "      <td>5.212781e-01</td>\n",
       "      <td>4.822270e-01</td>\n",
       "      <td>4.036325e-01</td>\n",
       "      <td>3.300833e-01</td>\n",
       "      <td>250.120109</td>\n",
       "      <td>0.041527</td>\n",
       "    </tr>\n",
       "    <tr>\n",
       "      <th>min</th>\n",
       "      <td>0.000000</td>\n",
       "      <td>-5.640751e+01</td>\n",
       "      <td>-7.271573e+01</td>\n",
       "      <td>-4.832559e+01</td>\n",
       "      <td>-5.683171e+00</td>\n",
       "      <td>-1.137433e+02</td>\n",
       "      <td>-2.616051e+01</td>\n",
       "      <td>-4.355724e+01</td>\n",
       "      <td>-7.321672e+01</td>\n",
       "      <td>-1.343407e+01</td>\n",
       "      <td>...</td>\n",
       "      <td>-3.483038e+01</td>\n",
       "      <td>-1.093314e+01</td>\n",
       "      <td>-4.480774e+01</td>\n",
       "      <td>-2.836627e+00</td>\n",
       "      <td>-1.029540e+01</td>\n",
       "      <td>-2.604551e+00</td>\n",
       "      <td>-2.256568e+01</td>\n",
       "      <td>-1.543008e+01</td>\n",
       "      <td>0.000000</td>\n",
       "      <td>0.000000</td>\n",
       "    </tr>\n",
       "    <tr>\n",
       "      <th>25%</th>\n",
       "      <td>54201.500000</td>\n",
       "      <td>-9.203734e-01</td>\n",
       "      <td>-5.985499e-01</td>\n",
       "      <td>-8.903648e-01</td>\n",
       "      <td>-8.486401e-01</td>\n",
       "      <td>-6.915971e-01</td>\n",
       "      <td>-7.682956e-01</td>\n",
       "      <td>-5.540759e-01</td>\n",
       "      <td>-2.086297e-01</td>\n",
       "      <td>-6.430976e-01</td>\n",
       "      <td>...</td>\n",
       "      <td>-2.283949e-01</td>\n",
       "      <td>-5.423504e-01</td>\n",
       "      <td>-1.618463e-01</td>\n",
       "      <td>-3.545861e-01</td>\n",
       "      <td>-3.171451e-01</td>\n",
       "      <td>-3.269839e-01</td>\n",
       "      <td>-7.083953e-02</td>\n",
       "      <td>-5.295979e-02</td>\n",
       "      <td>5.600000</td>\n",
       "      <td>0.000000</td>\n",
       "    </tr>\n",
       "    <tr>\n",
       "      <th>50%</th>\n",
       "      <td>84692.000000</td>\n",
       "      <td>1.810880e-02</td>\n",
       "      <td>6.548556e-02</td>\n",
       "      <td>1.798463e-01</td>\n",
       "      <td>-1.984653e-02</td>\n",
       "      <td>-5.433583e-02</td>\n",
       "      <td>-2.741871e-01</td>\n",
       "      <td>4.010308e-02</td>\n",
       "      <td>2.235804e-02</td>\n",
       "      <td>-5.142873e-02</td>\n",
       "      <td>...</td>\n",
       "      <td>-2.945017e-02</td>\n",
       "      <td>6.781943e-03</td>\n",
       "      <td>-1.119293e-02</td>\n",
       "      <td>4.097606e-02</td>\n",
       "      <td>1.659350e-02</td>\n",
       "      <td>-5.213911e-02</td>\n",
       "      <td>1.342146e-03</td>\n",
       "      <td>1.124383e-02</td>\n",
       "      <td>22.000000</td>\n",
       "      <td>0.000000</td>\n",
       "    </tr>\n",
       "    <tr>\n",
       "      <th>75%</th>\n",
       "      <td>139320.500000</td>\n",
       "      <td>1.315642e+00</td>\n",
       "      <td>8.037239e-01</td>\n",
       "      <td>1.027196e+00</td>\n",
       "      <td>7.433413e-01</td>\n",
       "      <td>6.119264e-01</td>\n",
       "      <td>3.985649e-01</td>\n",
       "      <td>5.704361e-01</td>\n",
       "      <td>3.273459e-01</td>\n",
       "      <td>5.971390e-01</td>\n",
       "      <td>...</td>\n",
       "      <td>1.863772e-01</td>\n",
       "      <td>5.285536e-01</td>\n",
       "      <td>1.476421e-01</td>\n",
       "      <td>4.395266e-01</td>\n",
       "      <td>3.507156e-01</td>\n",
       "      <td>2.409522e-01</td>\n",
       "      <td>9.104512e-02</td>\n",
       "      <td>7.827995e-02</td>\n",
       "      <td>77.165000</td>\n",
       "      <td>0.000000</td>\n",
       "    </tr>\n",
       "    <tr>\n",
       "      <th>max</th>\n",
       "      <td>172792.000000</td>\n",
       "      <td>2.454930e+00</td>\n",
       "      <td>2.205773e+01</td>\n",
       "      <td>9.382558e+00</td>\n",
       "      <td>1.687534e+01</td>\n",
       "      <td>3.480167e+01</td>\n",
       "      <td>7.330163e+01</td>\n",
       "      <td>1.205895e+02</td>\n",
       "      <td>2.000721e+01</td>\n",
       "      <td>1.559499e+01</td>\n",
       "      <td>...</td>\n",
       "      <td>2.720284e+01</td>\n",
       "      <td>1.050309e+01</td>\n",
       "      <td>2.252841e+01</td>\n",
       "      <td>4.584549e+00</td>\n",
       "      <td>7.519589e+00</td>\n",
       "      <td>3.517346e+00</td>\n",
       "      <td>3.161220e+01</td>\n",
       "      <td>3.384781e+01</td>\n",
       "      <td>25691.160000</td>\n",
       "      <td>1.000000</td>\n",
       "    </tr>\n",
       "  </tbody>\n",
       "</table>\n",
       "<p>8 rows × 31 columns</p>\n",
       "</div>"
      ],
      "text/plain": [
       "                Time            V1            V2            V3            V4  \\\n",
       "count  284807.000000  2.848070e+05  2.848070e+05  2.848070e+05  2.848070e+05   \n",
       "mean    94813.859575  1.168375e-15  3.416908e-16 -1.379537e-15  2.074095e-15   \n",
       "std     47488.145955  1.958696e+00  1.651309e+00  1.516255e+00  1.415869e+00   \n",
       "min         0.000000 -5.640751e+01 -7.271573e+01 -4.832559e+01 -5.683171e+00   \n",
       "25%     54201.500000 -9.203734e-01 -5.985499e-01 -8.903648e-01 -8.486401e-01   \n",
       "50%     84692.000000  1.810880e-02  6.548556e-02  1.798463e-01 -1.984653e-02   \n",
       "75%    139320.500000  1.315642e+00  8.037239e-01  1.027196e+00  7.433413e-01   \n",
       "max    172792.000000  2.454930e+00  2.205773e+01  9.382558e+00  1.687534e+01   \n",
       "\n",
       "                 V5            V6            V7            V8            V9  \\\n",
       "count  2.848070e+05  2.848070e+05  2.848070e+05  2.848070e+05  2.848070e+05   \n",
       "mean   9.604066e-16  1.487313e-15 -5.556467e-16  1.213481e-16 -2.406331e-15   \n",
       "std    1.380247e+00  1.332271e+00  1.237094e+00  1.194353e+00  1.098632e+00   \n",
       "min   -1.137433e+02 -2.616051e+01 -4.355724e+01 -7.321672e+01 -1.343407e+01   \n",
       "25%   -6.915971e-01 -7.682956e-01 -5.540759e-01 -2.086297e-01 -6.430976e-01   \n",
       "50%   -5.433583e-02 -2.741871e-01  4.010308e-02  2.235804e-02 -5.142873e-02   \n",
       "75%    6.119264e-01  3.985649e-01  5.704361e-01  3.273459e-01  5.971390e-01   \n",
       "max    3.480167e+01  7.330163e+01  1.205895e+02  2.000721e+01  1.559499e+01   \n",
       "\n",
       "       ...           V21           V22           V23           V24  \\\n",
       "count  ...  2.848070e+05  2.848070e+05  2.848070e+05  2.848070e+05   \n",
       "mean   ...  1.654067e-16 -3.568593e-16  2.578648e-16  4.473266e-15   \n",
       "std    ...  7.345240e-01  7.257016e-01  6.244603e-01  6.056471e-01   \n",
       "min    ... -3.483038e+01 -1.093314e+01 -4.480774e+01 -2.836627e+00   \n",
       "25%    ... -2.283949e-01 -5.423504e-01 -1.618463e-01 -3.545861e-01   \n",
       "50%    ... -2.945017e-02  6.781943e-03 -1.119293e-02  4.097606e-02   \n",
       "75%    ...  1.863772e-01  5.285536e-01  1.476421e-01  4.395266e-01   \n",
       "max    ...  2.720284e+01  1.050309e+01  2.252841e+01  4.584549e+00   \n",
       "\n",
       "                V25           V26           V27           V28         Amount  \\\n",
       "count  2.848070e+05  2.848070e+05  2.848070e+05  2.848070e+05  284807.000000   \n",
       "mean   5.340915e-16  1.683437e-15 -3.660091e-16 -1.227390e-16      88.349619   \n",
       "std    5.212781e-01  4.822270e-01  4.036325e-01  3.300833e-01     250.120109   \n",
       "min   -1.029540e+01 -2.604551e+00 -2.256568e+01 -1.543008e+01       0.000000   \n",
       "25%   -3.171451e-01 -3.269839e-01 -7.083953e-02 -5.295979e-02       5.600000   \n",
       "50%    1.659350e-02 -5.213911e-02  1.342146e-03  1.124383e-02      22.000000   \n",
       "75%    3.507156e-01  2.409522e-01  9.104512e-02  7.827995e-02      77.165000   \n",
       "max    7.519589e+00  3.517346e+00  3.161220e+01  3.384781e+01   25691.160000   \n",
       "\n",
       "               Class  \n",
       "count  284807.000000  \n",
       "mean        0.001727  \n",
       "std         0.041527  \n",
       "min         0.000000  \n",
       "25%         0.000000  \n",
       "50%         0.000000  \n",
       "75%         0.000000  \n",
       "max         1.000000  \n",
       "\n",
       "[8 rows x 31 columns]"
      ]
     },
     "execution_count": 6,
     "metadata": {},
     "output_type": "execute_result"
    }
   ],
   "source": [
    "data.describe()"
   ]
  },
  {
   "cell_type": "markdown",
   "id": "4258f0f6",
   "metadata": {
    "papermill": {
     "duration": 0.012273,
     "end_time": "2024-01-17T12:37:55.476418",
     "exception": false,
     "start_time": "2024-01-17T12:37:55.464145",
     "status": "completed"
    },
    "tags": []
   },
   "source": [
    "## Data Distribution"
   ]
  },
  {
   "cell_type": "code",
   "execution_count": 7,
   "id": "406eb8fa",
   "metadata": {
    "execution": {
     "iopub.execute_input": "2024-01-17T12:37:55.561598Z",
     "iopub.status.busy": "2024-01-17T12:37:55.560507Z",
     "iopub.status.idle": "2024-01-17T12:37:55.579420Z",
     "shell.execute_reply": "2024-01-17T12:37:55.578214Z"
    },
    "papermill": {
     "duration": 0.034586,
     "end_time": "2024-01-17T12:37:55.581695",
     "exception": false,
     "start_time": "2024-01-17T12:37:55.547109",
     "status": "completed"
    },
    "tags": []
   },
   "outputs": [
    {
     "name": "stdout",
     "output_type": "stream",
     "text": [
      "Amount\n",
      "1.00       13688\n",
      "1.98        6044\n",
      "0.89        4872\n",
      "9.99        4747\n",
      "15.00       3280\n",
      "           ...  \n",
      "62.09          1\n",
      "552.05         1\n",
      "1467.75        1\n",
      "196.68         1\n",
      "95.63          1\n",
      "Name: count, Length: 32767, dtype: int64\n"
     ]
    }
   ],
   "source": [
    "amount = data['Amount'].value_counts()\n",
    "print(amount)"
   ]
  },
  {
   "cell_type": "code",
   "execution_count": 8,
   "id": "40378482",
   "metadata": {
    "execution": {
     "iopub.execute_input": "2024-01-17T12:37:55.609276Z",
     "iopub.status.busy": "2024-01-17T12:37:55.608499Z",
     "iopub.status.idle": "2024-01-17T12:37:55.618303Z",
     "shell.execute_reply": "2024-01-17T12:37:55.617116Z"
    },
    "papermill": {
     "duration": 0.026826,
     "end_time": "2024-01-17T12:37:55.621072",
     "exception": false,
     "start_time": "2024-01-17T12:37:55.594246",
     "status": "completed"
    },
    "tags": []
   },
   "outputs": [
    {
     "name": "stdout",
     "output_type": "stream",
     "text": [
      "Class\n",
      "0    284315\n",
      "1       492\n",
      "Name: count, dtype: int64\n"
     ]
    }
   ],
   "source": [
    "label = data['Class'].value_counts()\n",
    "print(label)"
   ]
  },
  {
   "cell_type": "code",
   "execution_count": 9,
   "id": "9499a8e5",
   "metadata": {
    "execution": {
     "iopub.execute_input": "2024-01-17T12:37:55.648450Z",
     "iopub.status.busy": "2024-01-17T12:37:55.648051Z",
     "iopub.status.idle": "2024-01-17T12:37:55.655799Z",
     "shell.execute_reply": "2024-01-17T12:37:55.654737Z"
    },
    "papermill": {
     "duration": 0.023715,
     "end_time": "2024-01-17T12:37:55.657970",
     "exception": false,
     "start_time": "2024-01-17T12:37:55.634255",
     "status": "completed"
    },
    "tags": []
   },
   "outputs": [],
   "source": [
    "def data_distribution(data):\n",
    "    classes_counts = data.groupby('Class').size().reset_index(name='count')\n",
    "    colors = plt.cm.rainbow(np.linspace(0, 1, len(classes_counts)))\n",
    "    plt.bar(classes_counts['Class'], classes_counts['count'], color=colors)\n",
    "    for i, v in enumerate(classes_counts['count']):\n",
    "        plt.text(i, v + 5, str(v), ha='center', va='bottom', fontsize=8)\n",
    "    classes_names = data['Class'].unique() \n",
    "    plt.xticks(classes_counts['Class'], classes_names, size=10, rotation=45)\n",
    "    plt.xlabel('Class', size=12)\n",
    "    plt.ylabel('Frequency', size=12)\n",
    "    plt.title('Class Distribution of Dataset', size=13)\n",
    "    plt.show()"
   ]
  },
  {
   "cell_type": "code",
   "execution_count": 10,
   "id": "ce5f6d2a",
   "metadata": {
    "execution": {
     "iopub.execute_input": "2024-01-17T12:37:55.684735Z",
     "iopub.status.busy": "2024-01-17T12:37:55.684344Z",
     "iopub.status.idle": "2024-01-17T12:37:55.937411Z",
     "shell.execute_reply": "2024-01-17T12:37:55.936498Z"
    },
    "papermill": {
     "duration": 0.26931,
     "end_time": "2024-01-17T12:37:55.939730",
     "exception": false,
     "start_time": "2024-01-17T12:37:55.670420",
     "status": "completed"
    },
    "tags": []
   },
   "outputs": [
    {
     "data": {
      "image/png": "[encoded data removed]",
      "text/plain": [
       "<Figure size 640x480 with 1 Axes>"
      ]
     },
     "metadata": {},
     "output_type": "display_data"
    }
   ],
   "source": [
    "data_distribution(data)"
   ]
  },
  {
   "cell_type": "markdown",
   "id": "96490cf3",
   "metadata": {
    "papermill": {
     "duration": 0.012588,
     "end_time": "2024-01-17T12:37:55.965382",
     "exception": false,
     "start_time": "2024-01-17T12:37:55.952794",
     "status": "completed"
    },
    "tags": []
   },
   "source": [
    "### Processing Data"
   ]
  },
  {
   "cell_type": "markdown",
   "id": "94d26da7",
   "metadata": {
    "papermill": {
     "duration": 0.012935,
     "end_time": "2024-01-17T12:37:55.991407",
     "exception": false,
     "start_time": "2024-01-17T12:37:55.978472",
     "status": "completed"
    },
    "tags": []
   },
   "source": [
    "### Removing duplicate samples"
   ]
  },
  {
   "cell_type": "code",
   "execution_count": 11,
   "id": "8171d7c1",
   "metadata": {
    "execution": {
     "iopub.execute_input": "2024-01-17T12:37:56.020140Z",
     "iopub.status.busy": "2024-01-17T12:37:56.018933Z",
     "iopub.status.idle": "2024-01-17T12:37:56.952514Z",
     "shell.execute_reply": "2024-01-17T12:37:56.951052Z"
    },
    "papermill": {
     "duration": 0.950254,
     "end_time": "2024-01-17T12:37:56.954784",
     "exception": false,
     "start_time": "2024-01-17T12:37:56.004530",
     "status": "completed"
    },
    "tags": []
   },
   "outputs": [
    {
     "name": "stdout",
     "output_type": "stream",
     "text": [
      "(1081, 31)\n"
     ]
    }
   ],
   "source": [
    "dup =data[data.duplicated()]\n",
    "print(dup.shape)"
   ]
  },
  {
   "cell_type": "code",
   "execution_count": 12,
   "id": "42d66a00",
   "metadata": {
    "execution": {
     "iopub.execute_input": "2024-01-17T12:37:56.983467Z",
     "iopub.status.busy": "2024-01-17T12:37:56.982459Z",
     "iopub.status.idle": "2024-01-17T12:37:57.904292Z",
     "shell.execute_reply": "2024-01-17T12:37:57.903178Z"
    },
    "papermill": {
     "duration": 0.939089,
     "end_time": "2024-01-17T12:37:57.907044",
     "exception": false,
     "start_time": "2024-01-17T12:37:56.967955",
     "status": "completed"
    },
    "tags": []
   },
   "outputs": [],
   "source": [
    "data.drop_duplicates(inplace=True)"
   ]
  },
  {
   "cell_type": "code",
   "execution_count": 13,
   "id": "5ae8313c",
   "metadata": {
    "execution": {
     "iopub.execute_input": "2024-01-17T12:37:57.937259Z",
     "iopub.status.busy": "2024-01-17T12:37:57.936462Z",
     "iopub.status.idle": "2024-01-17T12:37:57.964367Z",
     "shell.execute_reply": "2024-01-17T12:37:57.963307Z"
    },
    "papermill": {
     "duration": 0.04561,
     "end_time": "2024-01-17T12:37:57.966525",
     "exception": false,
     "start_time": "2024-01-17T12:37:57.920915",
     "status": "completed"
    },
    "tags": []
   },
   "outputs": [
    {
     "name": "stdout",
     "output_type": "stream",
     "text": [
      "<class 'pandas.core.frame.DataFrame'>\n",
      "Index: 283726 entries, 0 to 284806\n",
      "Data columns (total 31 columns):\n",
      " #   Column  Non-Null Count   Dtype  \n",
      "---  ------  --------------   -----  \n",
      " 0   Time    283726 non-null  float64\n",
      " 1   V1      283726 non-null  float64\n",
      " 2   V2      283726 non-null  float64\n",
      " 3   V3      283726 non-null  float64\n",
      " 4   V4      283726 non-null  float64\n",
      " 5   V5      283726 non-null  float64\n",
      " 6   V6      283726 non-null  float64\n",
      " 7   V7      283726 non-null  float64\n",
      " 8   V8      283726 non-null  float64\n",
      " 9   V9      283726 non-null  float64\n",
      " 10  V10     283726 non-null  float64\n",
      " 11  V11     283726 non-null  float64\n",
      " 12  V12     283726 non-null  float64\n",
      " 13  V13     283726 non-null  float64\n",
      " 14  V14     283726 non-null  float64\n",
      " 15  V15     283726 non-null  float64\n",
      " 16  V16     283726 non-null  float64\n",
      " 17  V17     283726 non-null  float64\n",
      " 18  V18     283726 non-null  float64\n",
      " 19  V19     283726 non-null  float64\n",
      " 20  V20     283726 non-null  float64\n",
      " 21  V21     283726 non-null  float64\n",
      " 22  V22     283726 non-null  float64\n",
      " 23  V23     283726 non-null  float64\n",
      " 24  V24     283726 non-null  float64\n",
      " 25  V25     283726 non-null  float64\n",
      " 26  V26     283726 non-null  float64\n",
      " 27  V27     283726 non-null  float64\n",
      " 28  V28     283726 non-null  float64\n",
      " 29  Amount  283726 non-null  float64\n",
      " 30  Class   283726 non-null  int64  \n",
      "dtypes: float64(30), int64(1)\n",
      "memory usage: 69.3 MB\n"
     ]
    }
   ],
   "source": [
    "data.info()"
   ]
  },
  {
   "cell_type": "markdown",
   "id": "85cf516d",
   "metadata": {
    "papermill": {
     "duration": 0.013593,
     "end_time": "2024-01-17T12:37:57.994025",
     "exception": false,
     "start_time": "2024-01-17T12:37:57.980432",
     "status": "completed"
    },
    "tags": []
   },
   "source": [
    "### Split the data into train and test sets"
   ]
  },
  {
   "cell_type": "code",
   "execution_count": 14,
   "id": "fa5a5b17",
   "metadata": {
    "execution": {
     "iopub.execute_input": "2024-01-17T12:37:58.023260Z",
     "iopub.status.busy": "2024-01-17T12:37:58.022678Z",
     "iopub.status.idle": "2024-01-17T12:37:58.062363Z",
     "shell.execute_reply": "2024-01-17T12:37:58.061200Z"
    },
    "papermill": {
     "duration": 0.057012,
     "end_time": "2024-01-17T12:37:58.064616",
     "exception": false,
     "start_time": "2024-01-17T12:37:58.007604",
     "status": "completed"
    },
    "tags": []
   },
   "outputs": [],
   "source": [
    "data.reset_index(drop=True, inplace=True)\n",
    "X = data.drop('Class', axis=1)\n",
    "y = data['Class']"
   ]
  },
  {
   "cell_type": "code",
   "execution_count": 15,
   "id": "e77eafae",
   "metadata": {
    "execution": {
     "iopub.execute_input": "2024-01-17T12:37:58.093985Z",
     "iopub.status.busy": "2024-01-17T12:37:58.093544Z",
     "iopub.status.idle": "2024-01-17T12:37:58.183225Z",
     "shell.execute_reply": "2024-01-17T12:37:58.182121Z"
    },
    "papermill": {
     "duration": 0.107384,
     "end_time": "2024-01-17T12:37:58.185737",
     "exception": false,
     "start_time": "2024-01-17T12:37:58.078353",
     "status": "completed"
    },
    "tags": []
   },
   "outputs": [],
   "source": [
    "X_train1, X_test1, y_train1, y_test1 = train_test_split(X, y, test_size=0.2, random_state=42)"
   ]
  },
  {
   "cell_type": "code",
   "execution_count": 16,
   "id": "5f533a67",
   "metadata": {
    "execution": {
     "iopub.execute_input": "2024-01-17T12:37:58.214176Z",
     "iopub.status.busy": "2024-01-17T12:37:58.213764Z",
     "iopub.status.idle": "2024-01-17T12:37:58.235634Z",
     "shell.execute_reply": "2024-01-17T12:37:58.234323Z"
    },
    "papermill": {
     "duration": 0.039355,
     "end_time": "2024-01-17T12:37:58.238448",
     "exception": false,
     "start_time": "2024-01-17T12:37:58.199093",
     "status": "completed"
    },
    "tags": []
   },
   "outputs": [],
   "source": [
    "y_train1 = np.array(y_train1).reshape(-1, 1)\n",
    "encoder = OneHotEncoder()\n",
    "y_train_encoded1 = encoder.fit_transform(y_train1).toarray()"
   ]
  },
  {
   "cell_type": "code",
   "execution_count": 17,
   "id": "d806594a",
   "metadata": {
    "execution": {
     "iopub.execute_input": "2024-01-17T12:37:58.269519Z",
     "iopub.status.busy": "2024-01-17T12:37:58.268704Z",
     "iopub.status.idle": "2024-01-17T12:37:58.275126Z",
     "shell.execute_reply": "2024-01-17T12:37:58.273922Z"
    },
    "papermill": {
     "duration": 0.025125,
     "end_time": "2024-01-17T12:37:58.277232",
     "exception": false,
     "start_time": "2024-01-17T12:37:58.252107",
     "status": "completed"
    },
    "tags": []
   },
   "outputs": [
    {
     "name": "stdout",
     "output_type": "stream",
     "text": [
      "Number of train samples = 226980\n",
      "Number of test samples = 56746\n"
     ]
    }
   ],
   "source": [
    "print('Number of train samples =', len(X_train1))\n",
    "print('Number of test samples =', len(X_test1))    "
   ]
  },
  {
   "cell_type": "markdown",
   "id": "1076ca8f",
   "metadata": {
    "papermill": {
     "duration": 0.013817,
     "end_time": "2024-01-17T12:37:58.304318",
     "exception": false,
     "start_time": "2024-01-17T12:37:58.290501",
     "status": "completed"
    },
    "tags": []
   },
   "source": [
    "### Standardize the features"
   ]
  },
  {
   "cell_type": "code",
   "execution_count": 18,
   "id": "7ad0eb1f",
   "metadata": {
    "execution": {
     "iopub.execute_input": "2024-01-17T12:37:58.332760Z",
     "iopub.status.busy": "2024-01-17T12:37:58.332325Z",
     "iopub.status.idle": "2024-01-17T12:37:58.452804Z",
     "shell.execute_reply": "2024-01-17T12:37:58.451705Z"
    },
    "papermill": {
     "duration": 0.137756,
     "end_time": "2024-01-17T12:37:58.455449",
     "exception": false,
     "start_time": "2024-01-17T12:37:58.317693",
     "status": "completed"
    },
    "tags": []
   },
   "outputs": [],
   "source": [
    "scaler = StandardScaler()\n",
    "X_train1 = scaler.fit_transform(X_train1)\n",
    "X_test1 = scaler.transform(X_test1)"
   ]
  },
  {
   "cell_type": "markdown",
   "id": "c853b0ae",
   "metadata": {
    "papermill": {
     "duration": 0.013696,
     "end_time": "2024-01-17T12:37:58.482696",
     "exception": false,
     "start_time": "2024-01-17T12:37:58.469000",
     "status": "completed"
    },
    "tags": []
   },
   "source": [
    "## Model Implementation"
   ]
  },
  {
   "cell_type": "code",
   "execution_count": 19,
   "id": "48a73000",
   "metadata": {
    "execution": {
     "iopub.execute_input": "2024-01-17T12:37:58.512090Z",
     "iopub.status.busy": "2024-01-17T12:37:58.511671Z",
     "iopub.status.idle": "2024-01-17T12:37:58.520762Z",
     "shell.execute_reply": "2024-01-17T12:37:58.519557Z"
    },
    "papermill": {
     "duration": 0.026826,
     "end_time": "2024-01-17T12:37:58.523095",
     "exception": false,
     "start_time": "2024-01-17T12:37:58.496269",
     "status": "completed"
    },
    "tags": []
   },
   "outputs": [],
   "source": [
    "class CONVNETS:\n",
    "    def __init__(self, input_shape, num_classes=2):\n",
    "        self.model = Sequential([\n",
    "            Conv1D(filters=32, kernel_size=2, activation='relu', input_shape=(input_shape, 1)),\n",
    "            BatchNormalization(),\n",
    "            MaxPooling1D(pool_size=2),\n",
    "            Dropout(0.2),\n",
    "            \n",
    "            Conv1D(filters=64, kernel_size=2, activation='relu'),\n",
    "            BatchNormalization(),\n",
    "            MaxPooling1D(pool_size=2),\n",
    "            Dropout(0.5),\n",
    "            \n",
    "            Flatten(),\n",
    "            Dense(64, activation='relu'),\n",
    "            Dropout(0.5),\n",
    "            Dense(64, activation='relu'),\n",
    "            Dense(num_classes, activation='softmax')\n",
    "        ])\n",
    "        \n",
    "        self.model.compile(\n",
    "            loss='binary_crossentropy', \n",
    "            optimizer=Adam(learning_rate=0.0001), \n",
    "            metrics=['accuracy'])\n",
    "\n",
    "    def fit(self, X, y, epoch=46, batch=128):\n",
    "        return self.model.fit(X, y, validation_split=0.25, epochs=epoch)\n",
    "\n",
    "    def predict(self, X):\n",
    "        return self.model.predict(X)\n",
    "    \n",
    "    def evaluate(self, X, y):\n",
    "        return self.model.evaluate(X, y)"
   ]
  },
  {
   "cell_type": "markdown",
   "id": "c6cf1346",
   "metadata": {
    "papermill": {
     "duration": 0.012866,
     "end_time": "2024-01-17T12:37:58.549606",
     "exception": false,
     "start_time": "2024-01-17T12:37:58.536740",
     "status": "completed"
    },
    "tags": []
   },
   "source": [
    "#### Plot accuracy and loss"
   ]
  },
  {
   "cell_type": "code",
   "execution_count": 20,
   "id": "d8b75fe5",
   "metadata": {
    "execution": {
     "iopub.execute_input": "2024-01-17T12:37:58.578000Z",
     "iopub.status.busy": "2024-01-17T12:37:58.577580Z",
     "iopub.status.idle": "2024-01-17T12:37:58.585359Z",
     "shell.execute_reply": "2024-01-17T12:37:58.584144Z"
    },
    "papermill": {
     "duration": 0.024811,
     "end_time": "2024-01-17T12:37:58.587608",
     "exception": false,
     "start_time": "2024-01-17T12:37:58.562797",
     "status": "completed"
    },
    "tags": []
   },
   "outputs": [],
   "source": [
    "def plot_loss_and_accuracy(train_loss, val_loss, train_accuracy, val_accuracy):\n",
    "    fig, axes = plt.subplots(nrows=1, ncols=2, figsize=(12, 4))\n",
    "\n",
    "    axes[0].plot(train_loss, label=\"Train loss\")\n",
    "    axes[0].plot(val_loss, label=\"Validation loss\")\n",
    "    axes[0].set_ylabel(\"Loss\", fontsize=12)\n",
    "    axes[0].set_xlabel(\"Epoch\", fontsize=12)\n",
    "    axes[0].legend(prop={'size': 10})\n",
    "\n",
    "    axes[1].plot(train_accuracy, label=\"Train Accuracy\")\n",
    "    axes[1].plot(val_accuracy, label=\"Validation Accuracy\")\n",
    "    axes[1].set_ylabel(\"Score\", fontsize=12)\n",
    "    axes[1].set_xlabel(\"Epoch\", fontsize=12)\n",
    "    axes[1].legend(prop={'size': 10})\n",
    "\n",
    "    plt.tight_layout()\n",
    "    plt.show()"
   ]
  },
  {
   "cell_type": "markdown",
   "id": "973231e6",
   "metadata": {
    "papermill": {
     "duration": 0.013044,
     "end_time": "2024-01-17T12:37:58.614110",
     "exception": false,
     "start_time": "2024-01-17T12:37:58.601066",
     "status": "completed"
    },
    "tags": []
   },
   "source": [
    "### Training"
   ]
  },
  {
   "cell_type": "code",
   "execution_count": 21,
   "id": "a441a443",
   "metadata": {
    "execution": {
     "iopub.execute_input": "2024-01-17T12:37:58.642613Z",
     "iopub.status.busy": "2024-01-17T12:37:58.642233Z",
     "iopub.status.idle": "2024-01-17T13:02:20.351622Z",
     "shell.execute_reply": "2024-01-17T13:02:20.350279Z"
    },
    "papermill": {
     "duration": 1461.727365,
     "end_time": "2024-01-17T13:02:20.354781",
     "exception": false,
     "start_time": "2024-01-17T12:37:58.627416",
     "status": "completed"
    },
    "tags": []
   },
   "outputs": [
    {
     "name": "stdout",
     "output_type": "stream",
     "text": [
      "Epoch 1/46\n",
      "5320/5320 [==============================] - 32s 6ms/step - loss: 0.0295 - accuracy: 0.9962 - val_loss: 0.0149 - val_accuracy: 0.9989\n",
      "Epoch 2/46\n",
      "5320/5320 [==============================] - 29s 5ms/step - loss: 0.0077 - accuracy: 0.9988 - val_loss: 0.0085 - val_accuracy: 0.9991\n",
      "Epoch 3/46\n",
      "5320/5320 [==============================] - 29s 5ms/step - loss: 0.0062 - accuracy: 0.9991 - val_loss: 0.0061 - val_accuracy: 0.9993\n",
      "Epoch 4/46\n",
      "5320/5320 [==============================] - 30s 6ms/step - loss: 0.0058 - accuracy: 0.9990 - val_loss: 0.0056 - val_accuracy: 0.9993\n",
      "Epoch 5/46\n",
      "5320/5320 [==============================] - 29s 5ms/step - loss: 0.0048 - accuracy: 0.9992 - val_loss: 0.0045 - val_accuracy: 0.9993\n",
      "Epoch 6/46\n",
      "5320/5320 [==============================] - 32s 6ms/step - loss: 0.0046 - accuracy: 0.9992 - val_loss: 0.0047 - val_accuracy: 0.9993\n",
      "Epoch 7/46\n",
      "5320/5320 [==============================] - 30s 6ms/step - loss: 0.0044 - accuracy: 0.9993 - val_loss: 0.0049 - val_accuracy: 0.9993\n",
      "Epoch 8/46\n",
      "5320/5320 [==============================] - 32s 6ms/step - loss: 0.0043 - accuracy: 0.9993 - val_loss: 0.0047 - val_accuracy: 0.9993\n",
      "Epoch 9/46\n",
      "5320/5320 [==============================] - 31s 6ms/step - loss: 0.0042 - accuracy: 0.9993 - val_loss: 0.0046 - val_accuracy: 0.9993\n",
      "Epoch 10/46\n",
      "5320/5320 [==============================] - 32s 6ms/step - loss: 0.0039 - accuracy: 0.9993 - val_loss: 0.0046 - val_accuracy: 0.9993\n",
      "Epoch 11/46\n",
      "5320/5320 [==============================] - 35s 6ms/step - loss: 0.0037 - accuracy: 0.9993 - val_loss: 0.0047 - val_accuracy: 0.9993\n",
      "Epoch 12/46\n",
      "5320/5320 [==============================] - 31s 6ms/step - loss: 0.0038 - accuracy: 0.9993 - val_loss: 0.0040 - val_accuracy: 0.9993\n",
      "Epoch 13/46\n",
      "5320/5320 [==============================] - 30s 6ms/step - loss: 0.0039 - accuracy: 0.9993 - val_loss: 0.0061 - val_accuracy: 0.9993\n",
      "Epoch 14/46\n",
      "5320/5320 [==============================] - 31s 6ms/step - loss: 0.0036 - accuracy: 0.9993 - val_loss: 0.0042 - val_accuracy: 0.9993\n",
      "Epoch 15/46\n",
      "5320/5320 [==============================] - 35s 7ms/step - loss: 0.0038 - accuracy: 0.9993 - val_loss: 0.0043 - val_accuracy: 0.9993\n",
      "Epoch 16/46\n",
      "5320/5320 [==============================] - 34s 6ms/step - loss: 0.0035 - accuracy: 0.9994 - val_loss: 0.0040 - val_accuracy: 0.9993\n",
      "Epoch 17/46\n",
      "5320/5320 [==============================] - 33s 6ms/step - loss: 0.0037 - accuracy: 0.9994 - val_loss: 0.0038 - val_accuracy: 0.9993\n",
      "Epoch 18/46\n",
      "5320/5320 [==============================] - 35s 7ms/step - loss: 0.0037 - accuracy: 0.9993 - val_loss: 0.0044 - val_accuracy: 0.9993\n",
      "Epoch 19/46\n",
      "5320/5320 [==============================] - 32s 6ms/step - loss: 0.0037 - accuracy: 0.9993 - val_loss: 0.0037 - val_accuracy: 0.9993\n",
      "Epoch 20/46\n",
      "5320/5320 [==============================] - 33s 6ms/step - loss: 0.0038 - accuracy: 0.9993 - val_loss: 0.0050 - val_accuracy: 0.9993\n",
      "Epoch 21/46\n",
      "5320/5320 [==============================] - 34s 6ms/step - loss: 0.0036 - accuracy: 0.9993 - val_loss: 0.0039 - val_accuracy: 0.9993\n",
      "Epoch 22/46\n",
      "5320/5320 [==============================] - 31s 6ms/step - loss: 0.0035 - accuracy: 0.9994 - val_loss: 0.0045 - val_accuracy: 0.9991\n",
      "Epoch 23/46\n",
      "5320/5320 [==============================] - 33s 6ms/step - loss: 0.0035 - accuracy: 0.9994 - val_loss: 0.0048 - val_accuracy: 0.9991\n",
      "Epoch 24/46\n",
      "5320/5320 [==============================] - 38s 7ms/step - loss: 0.0036 - accuracy: 0.9993 - val_loss: 0.0036 - val_accuracy: 0.9993\n",
      "Epoch 25/46\n",
      "5320/5320 [==============================] - 34s 6ms/step - loss: 0.0036 - accuracy: 0.9994 - val_loss: 0.0036 - val_accuracy: 0.9993\n",
      "Epoch 26/46\n",
      "5320/5320 [==============================] - 31s 6ms/step - loss: 0.0035 - accuracy: 0.9994 - val_loss: 0.0036 - val_accuracy: 0.9993\n",
      "Epoch 27/46\n",
      "5320/5320 [==============================] - 31s 6ms/step - loss: 0.0035 - accuracy: 0.9994 - val_loss: 0.0039 - val_accuracy: 0.9993\n",
      "Epoch 28/46\n",
      "5320/5320 [==============================] - 31s 6ms/step - loss: 0.0037 - accuracy: 0.9994 - val_loss: 0.0037 - val_accuracy: 0.9993\n",
      "Epoch 29/46\n",
      "5320/5320 [==============================] - 33s 6ms/step - loss: 0.0034 - accuracy: 0.9994 - val_loss: 0.0040 - val_accuracy: 0.9993\n",
      "Epoch 30/46\n",
      "5320/5320 [==============================] - 32s 6ms/step - loss: 0.0036 - accuracy: 0.9994 - val_loss: 0.0043 - val_accuracy: 0.9993\n",
      "Epoch 31/46\n",
      "5320/5320 [==============================] - 33s 6ms/step - loss: 0.0034 - accuracy: 0.9994 - val_loss: 0.0048 - val_accuracy: 0.9993\n",
      "Epoch 32/46\n",
      "5320/5320 [==============================] - 31s 6ms/step - loss: 0.0037 - accuracy: 0.9994 - val_loss: 0.0040 - val_accuracy: 0.9993\n",
      "Epoch 33/46\n",
      "5320/5320 [==============================] - 31s 6ms/step - loss: 0.0035 - accuracy: 0.9994 - val_loss: 0.0039 - val_accuracy: 0.9993\n",
      "Epoch 34/46\n",
      "5320/5320 [==============================] - 31s 6ms/step - loss: 0.0036 - accuracy: 0.9994 - val_loss: 0.0037 - val_accuracy: 0.9993\n",
      "Epoch 35/46\n",
      "5320/5320 [==============================] - 32s 6ms/step - loss: 0.0034 - accuracy: 0.9994 - val_loss: 0.0037 - val_accuracy: 0.9993\n",
      "Epoch 36/46\n",
      "5320/5320 [==============================] - 32s 6ms/step - loss: 0.0035 - accuracy: 0.9994 - val_loss: 0.0035 - val_accuracy: 0.9993\n",
      "Epoch 37/46\n",
      "5320/5320 [==============================] - 31s 6ms/step - loss: 0.0035 - accuracy: 0.9994 - val_loss: 0.0035 - val_accuracy: 0.9993\n",
      "Epoch 38/46\n",
      "5320/5320 [==============================] - 31s 6ms/step - loss: 0.0034 - accuracy: 0.9994 - val_loss: 0.0038 - val_accuracy: 0.9993\n",
      "Epoch 39/46\n",
      "5320/5320 [==============================] - 31s 6ms/step - loss: 0.0034 - accuracy: 0.9994 - val_loss: 0.0036 - val_accuracy: 0.9993\n",
      "Epoch 40/46\n",
      "5320/5320 [==============================] - 33s 6ms/step - loss: 0.0032 - accuracy: 0.9994 - val_loss: 0.0037 - val_accuracy: 0.9993\n",
      "Epoch 41/46\n",
      "5320/5320 [==============================] - 29s 5ms/step - loss: 0.0033 - accuracy: 0.9994 - val_loss: 0.0038 - val_accuracy: 0.9992\n",
      "Epoch 42/46\n",
      "5320/5320 [==============================] - 33s 6ms/step - loss: 0.0033 - accuracy: 0.9994 - val_loss: 0.0035 - val_accuracy: 0.9993\n",
      "Epoch 43/46\n",
      "5320/5320 [==============================] - 29s 6ms/step - loss: 0.0034 - accuracy: 0.9994 - val_loss: 0.0037 - val_accuracy: 0.9993\n",
      "Epoch 44/46\n",
      "5320/5320 [==============================] - 30s 6ms/step - loss: 0.0033 - accuracy: 0.9994 - val_loss: 0.0040 - val_accuracy: 0.9993\n",
      "Epoch 45/46\n",
      "5320/5320 [==============================] - 32s 6ms/step - loss: 0.0032 - accuracy: 0.9994 - val_loss: 0.0034 - val_accuracy: 0.9993\n",
      "Epoch 46/46\n",
      "5320/5320 [==============================] - 30s 6ms/step - loss: 0.0032 - accuracy: 0.9994 - val_loss: 0.0039 - val_accuracy: 0.9993\n"
     ]
    }
   ],
   "source": [
    "model1 = CONVNETS(X_train1.shape[1])\n",
    "history = model1.fit(X_train1, y_train_encoded1)"
   ]
  },
  {
   "cell_type": "code",
   "execution_count": 22,
   "id": "324aad5c",
   "metadata": {
    "execution": {
     "iopub.execute_input": "2024-01-17T13:02:23.813943Z",
     "iopub.status.busy": "2024-01-17T13:02:23.813466Z",
     "iopub.status.idle": "2024-01-17T13:02:24.324060Z",
     "shell.execute_reply": "2024-01-17T13:02:24.322705Z"
    },
    "papermill": {
     "duration": 2.24612,
     "end_time": "2024-01-17T13:02:24.326583",
     "exception": false,
     "start_time": "2024-01-17T13:02:22.080463",
     "status": "completed"
    },
    "tags": []
   },
   "outputs": [
    {
     "data": {
      "image/png": "[encoded data removed]",
      "text/plain": [
       "<Figure size 1200x400 with 2 Axes>"
      ]
     },
     "metadata": {},
     "output_type": "display_data"
    }
   ],
   "source": [
    "train_loss = history.history['loss']\n",
    "train_accuracy = history.history['accuracy']\n",
    "val_loss = history.history['val_loss']\n",
    "val_accuracy = history.history['val_accuracy']\n",
    "plot_loss_and_accuracy(train_loss, val_loss, train_accuracy, val_accuracy)"
   ]
  },
  {
   "cell_type": "markdown",
   "id": "e3c80c80",
   "metadata": {
    "papermill": {
     "duration": 1.810021,
     "end_time": "2024-01-17T13:02:27.781664",
     "exception": false,
     "start_time": "2024-01-17T13:02:25.971643",
     "status": "completed"
    },
    "tags": []
   },
   "source": [
    "### F1, Precision, and Recall Metrics"
   ]
  },
  {
   "cell_type": "code",
   "execution_count": 23,
   "id": "1501dac5",
   "metadata": {
    "execution": {
     "iopub.execute_input": "2024-01-17T13:02:31.105630Z",
     "iopub.status.busy": "2024-01-17T13:02:31.105212Z",
     "iopub.status.idle": "2024-01-17T13:02:35.390396Z",
     "shell.execute_reply": "2024-01-17T13:02:35.389242Z"
    },
    "papermill": {
     "duration": 5.988052,
     "end_time": "2024-01-17T13:02:35.392841",
     "exception": false,
     "start_time": "2024-01-17T13:02:29.404789",
     "status": "completed"
    },
    "tags": []
   },
   "outputs": [
    {
     "name": "stdout",
     "output_type": "stream",
     "text": [
      "1774/1774 [==============================] - 3s 2ms/step\n",
      "Classification Report:\n",
      "              precision    recall  f1-score   support\n",
      "\n",
      "           0       1.00      1.00      1.00     56656\n",
      "           1       0.88      0.66      0.75        90\n",
      "\n",
      "    accuracy                           1.00     56746\n",
      "   macro avg       0.94      0.83      0.88     56746\n",
      "weighted avg       1.00      1.00      1.00     56746\n",
      "\n"
     ]
    }
   ],
   "source": [
    "probabilities = model1.predict(X_test1)\n",
    "binary_predictions = np.argmax(probabilities, axis=1)\n",
    "print(\"Classification Report:\")\n",
    "print(classification_report(y_test1, binary_predictions))"
   ]
  },
  {
   "cell_type": "code",
   "execution_count": 24,
   "id": "9d3b53ea",
   "metadata": {
    "execution": {
     "iopub.execute_input": "2024-01-17T13:02:38.919594Z",
     "iopub.status.busy": "2024-01-17T13:02:38.918807Z",
     "iopub.status.idle": "2024-01-17T13:02:38.982602Z",
     "shell.execute_reply": "2024-01-17T13:02:38.981204Z"
    },
    "papermill": {
     "duration": 1.858976,
     "end_time": "2024-01-17T13:02:38.984938",
     "exception": false,
     "start_time": "2024-01-17T13:02:37.125962",
     "status": "completed"
    },
    "tags": []
   },
   "outputs": [
    {
     "name": "stdout",
     "output_type": "stream",
     "text": [
      "Accuracy: 0.9993\n",
      "Overall Precision: 0.8806\n",
      "Recall: 0.6556\n",
      "F1-score: 0.7516\n"
     ]
    }
   ],
   "source": [
    "print(f\"Accuracy: {accuracy_score(y_test1, binary_predictions):.4f}\")\n",
    "print(f\"Overall Precision: {precision_score(y_test1, binary_predictions):.4f}\")\n",
    "print(f\"Recall: {recall_score(y_test1, binary_predictions):.4f}\")\n",
    "print(f\"F1-score: {f1_score(y_test1, binary_predictions):.4f}\")"
   ]
  },
  {
   "cell_type": "markdown",
   "id": "eb12ecab",
   "metadata": {
    "papermill": {
     "duration": 1.702847,
     "end_time": "2024-01-17T13:02:42.347192",
     "exception": false,
     "start_time": "2024-01-17T13:02:40.644345",
     "status": "completed"
    },
    "tags": []
   },
   "source": [
    "### Confucsion Matrix"
   ]
  },
  {
   "cell_type": "code",
   "execution_count": 25,
   "id": "6ce1a3da",
   "metadata": {
    "execution": {
     "iopub.execute_input": "2024-01-17T13:02:45.756888Z",
     "iopub.status.busy": "2024-01-17T13:02:45.755663Z",
     "iopub.status.idle": "2024-01-17T13:02:45.770889Z",
     "shell.execute_reply": "2024-01-17T13:02:45.769609Z"
    },
    "papermill": {
     "duration": 1.722487,
     "end_time": "2024-01-17T13:02:45.773417",
     "exception": false,
     "start_time": "2024-01-17T13:02:44.050930",
     "status": "completed"
    },
    "tags": []
   },
   "outputs": [
    {
     "name": "stdout",
     "output_type": "stream",
     "text": [
      "[[56648     8]\n",
      " [   31    59]]\n"
     ]
    }
   ],
   "source": [
    "confusion_m = confusion_matrix(y_test1, binary_predictions)\n",
    "print(confusion_m)"
   ]
  },
  {
   "cell_type": "code",
   "execution_count": 26,
   "id": "22c96d37",
   "metadata": {
    "execution": {
     "iopub.execute_input": "2024-01-17T13:02:49.226696Z",
     "iopub.status.busy": "2024-01-17T13:02:49.225851Z",
     "iopub.status.idle": "2024-01-17T13:02:49.490135Z",
     "shell.execute_reply": "2024-01-17T13:02:49.488990Z"
    },
    "papermill": {
     "duration": 1.982108,
     "end_time": "2024-01-17T13:02:49.492413",
     "exception": false,
     "start_time": "2024-01-17T13:02:47.510305",
     "status": "completed"
    },
    "tags": []
   },
   "outputs": [
    {
     "data": {
      "text/plain": [
       "<Axes: >"
      ]
     },
     "execution_count": 26,
     "metadata": {},
     "output_type": "execute_result"
    },
    {
     "data": {
      "image/png": "[encoded data removed]",
      "text/plain": [
       "<Figure size 640x480 with 2 Axes>"
      ]
     },
     "metadata": {},
     "output_type": "display_data"
    }
   ],
   "source": [
    "sns.heatmap(confusion_m, annot=True, linecolor='white', linewidths=1)"
   ]
  },
  {
   "cell_type": "markdown",
   "id": "2ce8471d",
   "metadata": {
    "papermill": {
     "duration": 1.713805,
     "end_time": "2024-01-17T13:02:52.912978",
     "exception": false,
     "start_time": "2024-01-17T13:02:51.199173",
     "status": "completed"
    },
    "tags": []
   },
   "source": [
    "### Adaptive Synthetic Sampling"
   ]
  },
  {
   "cell_type": "markdown",
   "id": "79aea3ac",
   "metadata": {
    "papermill": {
     "duration": 1.730951,
     "end_time": "2024-01-17T13:02:56.375952",
     "exception": false,
     "start_time": "2024-01-17T13:02:54.645001",
     "status": "completed"
    },
    "tags": []
   },
   "source": [
    "ADASYN (Adaptive Synthetic) is an algorithm that generates synthetic data, and its greatest advantages are not copying the same minority data, and generating more data for “harder to learn” examples"
   ]
  },
  {
   "cell_type": "code",
   "execution_count": 27,
   "id": "72301dfc",
   "metadata": {
    "execution": {
     "iopub.execute_input": "2024-01-17T13:02:59.790669Z",
     "iopub.status.busy": "2024-01-17T13:02:59.790248Z",
     "iopub.status.idle": "2024-01-17T13:02:59.951484Z",
     "shell.execute_reply": "2024-01-17T13:02:59.950568Z"
    },
    "papermill": {
     "duration": 1.869789,
     "end_time": "2024-01-17T13:02:59.954123",
     "exception": false,
     "start_time": "2024-01-17T13:02:58.084334",
     "status": "completed"
    },
    "tags": []
   },
   "outputs": [],
   "source": [
    "import numpy as np\n",
    "from sklearn.neighbors import NearestNeighbors\n",
    "from sklearn.neighbors import KNeighborsClassifier\n",
    "\n",
    "class ADASYN:\n",
    "    def __init__(self, n_neighbors=5, ratio=1, random_seed=None):\n",
    "        self.n_neighbors = n_neighbors\n",
    "        self.ratio = ratio\n",
    "        self.random_seed = random_seed\n",
    "        self.synthetic_samples = []\n",
    "\n",
    "    def fit_resample(self, X, y):\n",
    "        np.random.seed(self.random_seed)\n",
    "        \n",
    "        # Separate minority and majority class samples\n",
    "        minority_samples = X[y == 1]\n",
    "        majority_samples = X[y == 0]\n",
    "        len_minority_samples = len(minority_samples)\n",
    "        len_majority_samples  = len(majority_samples)\n",
    "        \n",
    "        # Calculate imbalance ratio\n",
    "        imbalance_ratio = len_majority_samples / len_minority_samples\n",
    "        \n",
    "        # Calculate number of synthetic samples to generate\n",
    "        num_synthetic_samples = (len_majority_samples - len_minority_samples) * self.ratio\n",
    "       \n",
    "        # Find k-nearest neighbors for each minority sample        \n",
    "        neighbors = KNeighborsClassifier()\n",
    "        neighbors.fit(X, y)\n",
    "\n",
    "        # For each minority sample, compute the ratio of samples in the K-nearest neighbors that belong to the majority class\n",
    "        ratios = []\n",
    "        Minority_per_samples = []\n",
    "        for sample in minority_samples:\n",
    "            xi = sample.reshape(1, -1)\n",
    "            indices = neighbors.kneighbors(xi, n_neighbors=self.n_neighbors, return_distance=False)[0]\n",
    "            ratio = len([i for i in indices if y[i] != 1]) / self.n_neighbors\n",
    "            ratios.append(ratio)\n",
    "            \n",
    "            minority_neighbors = []\n",
    "            for i in indices:\n",
    "                if y[i] == 1:\n",
    "                    minority_neighbors.append(i)\n",
    "            Minority_per_samples.append(minority_neighbors)\n",
    "        \n",
    "        ratios = np.array(ratios)\n",
    "        ratios = ratios / np.sum(ratios)\n",
    "\n",
    "        for i, sample in enumerate(minority_samples):\n",
    "            # Determine the number of synthetic samples to generate for this sample\n",
    "            num = int(ratios[i] * num_synthetic_samples)\n",
    "\n",
    "            for _ in range(num):\n",
    "                neighbor = X[np.random.choice(Minority_per_samples[i])]\n",
    "                diff = neighbor - sample\n",
    "                synthetic_sample = sample + np.random.random() * diff\n",
    "                self.synthetic_samples.append(synthetic_sample)\n",
    "                \n",
    "        \n",
    "        resampled_X = np.vstack((X, np.array(self.synthetic_samples)))\n",
    "        resampled_y = np.hstack((y, np.ones(len(self.synthetic_samples))))\n",
    "        shuffle_indices = np.random.permutation(len(resampled_X))\n",
    "        resampled_X = resampled_X[shuffle_indices]\n",
    "        resampled_y = resampled_y[shuffle_indices]\n",
    "        return resampled_X, resampled_y"
   ]
  },
  {
   "cell_type": "code",
   "execution_count": 28,
   "id": "8ec8573a",
   "metadata": {
    "execution": {
     "iopub.execute_input": "2024-01-17T13:03:03.377707Z",
     "iopub.status.busy": "2024-01-17T13:03:03.377296Z",
     "iopub.status.idle": "2024-01-17T13:03:03.381441Z",
     "shell.execute_reply": "2024-01-17T13:03:03.380688Z"
    },
    "papermill": {
     "duration": 1.718468,
     "end_time": "2024-01-17T13:03:03.383221",
     "exception": false,
     "start_time": "2024-01-17T13:03:01.664753",
     "status": "completed"
    },
    "tags": []
   },
   "outputs": [],
   "source": [
    "X2 = X.values\n",
    "y2 = y.values"
   ]
  },
  {
   "cell_type": "code",
   "execution_count": 29,
   "id": "6ca18e29",
   "metadata": {
    "execution": {
     "iopub.execute_input": "2024-01-17T13:03:06.745011Z",
     "iopub.status.busy": "2024-01-17T13:03:06.744605Z",
     "iopub.status.idle": "2024-01-17T13:03:19.324074Z",
     "shell.execute_reply": "2024-01-17T13:03:19.323030Z"
    },
    "papermill": {
     "duration": 14.227882,
     "end_time": "2024-01-17T13:03:19.326752",
     "exception": false,
     "start_time": "2024-01-17T13:03:05.098870",
     "status": "completed"
    },
    "tags": []
   },
   "outputs": [],
   "source": [
    "adasyn = ADASYN(n_neighbors=5, ratio=1)\n",
    "X2, y2 = adasyn.fit_resample(X2, y2)"
   ]
  },
  {
   "cell_type": "markdown",
   "id": "7d4c6881",
   "metadata": {
    "papermill": {
     "duration": 1.720975,
     "end_time": "2024-01-17T13:03:22.747509",
     "exception": false,
     "start_time": "2024-01-17T13:03:21.026534",
     "status": "completed"
    },
    "tags": []
   },
   "source": [
    "### Split the data into train and test sets"
   ]
  },
  {
   "cell_type": "code",
   "execution_count": 30,
   "id": "b3049081",
   "metadata": {
    "execution": {
     "iopub.execute_input": "2024-01-17T13:03:26.160023Z",
     "iopub.status.busy": "2024-01-17T13:03:26.159298Z",
     "iopub.status.idle": "2024-01-17T13:03:26.321211Z",
     "shell.execute_reply": "2024-01-17T13:03:26.320396Z"
    },
    "papermill": {
     "duration": 1.877565,
     "end_time": "2024-01-17T13:03:26.323907",
     "exception": false,
     "start_time": "2024-01-17T13:03:24.446342",
     "status": "completed"
    },
    "tags": []
   },
   "outputs": [
    {
     "name": "stdout",
     "output_type": "stream",
     "text": [
      "Number of train samples = 452873\n",
      "Number of test samples = 113219\n"
     ]
    }
   ],
   "source": [
    "X_train2, X_test2, y_train2, y_test2 = train_test_split(X2, y2, test_size=0.2, random_state=42)\n",
    "print('Number of train samples =', len(X_train2))\n",
    "print('Number of test samples =', len(X_test2)) \n",
    "y_train2 = np.array(y_train2).reshape(-1, 1)\n",
    "encoder = OneHotEncoder()\n",
    "y_train_encoded2 = encoder.fit_transform(y_train2).toarray()"
   ]
  },
  {
   "cell_type": "code",
   "execution_count": 31,
   "id": "182bf2e0",
   "metadata": {
    "execution": {
     "iopub.execute_input": "2024-01-17T13:03:29.740965Z",
     "iopub.status.busy": "2024-01-17T13:03:29.740222Z",
     "iopub.status.idle": "2024-01-17T13:03:29.947897Z",
     "shell.execute_reply": "2024-01-17T13:03:29.947058Z"
    },
    "papermill": {
     "duration": 1.924042,
     "end_time": "2024-01-17T13:03:29.950004",
     "exception": false,
     "start_time": "2024-01-17T13:03:28.025962",
     "status": "completed"
    },
    "tags": []
   },
   "outputs": [
    {
     "data": {
      "image/png": "[encoded data removed]",
      "text/plain": [
       "<Figure size 640x480 with 1 Axes>"
      ]
     },
     "metadata": {},
     "output_type": "display_data"
    }
   ],
   "source": [
    "df_y_train2 = pd.DataFrame(y2, columns=['Class'])\n",
    "data_distribution(df_y_train2)"
   ]
  },
  {
   "cell_type": "markdown",
   "id": "aed9adcb",
   "metadata": {
    "papermill": {
     "duration": 1.794272,
     "end_time": "2024-01-17T13:03:33.376278",
     "exception": false,
     "start_time": "2024-01-17T13:03:31.582006",
     "status": "completed"
    },
    "tags": []
   },
   "source": [
    "### Standardize the features"
   ]
  },
  {
   "cell_type": "code",
   "execution_count": 32,
   "id": "66dee802",
   "metadata": {
    "execution": {
     "iopub.execute_input": "2024-01-17T13:03:36.729937Z",
     "iopub.status.busy": "2024-01-17T13:03:36.729159Z",
     "iopub.status.idle": "2024-01-17T13:03:36.996848Z",
     "shell.execute_reply": "2024-01-17T13:03:36.995991Z"
    },
    "papermill": {
     "duration": 1.992859,
     "end_time": "2024-01-17T13:03:36.999256",
     "exception": false,
     "start_time": "2024-01-17T13:03:35.006397",
     "status": "completed"
    },
    "tags": []
   },
   "outputs": [],
   "source": [
    "scaler = StandardScaler()\n",
    "X_train2 = scaler.fit_transform(X_train2)\n",
    "X_test2 = scaler.transform(X_test2)"
   ]
  },
  {
   "cell_type": "markdown",
   "id": "3afa5552",
   "metadata": {
    "papermill": {
     "duration": 1.786486,
     "end_time": "2024-01-17T13:03:40.487142",
     "exception": false,
     "start_time": "2024-01-17T13:03:38.700656",
     "status": "completed"
    },
    "tags": []
   },
   "source": [
    "### Training on Resampled Dataset"
   ]
  },
  {
   "cell_type": "code",
   "execution_count": 33,
   "id": "3d634171",
   "metadata": {
    "execution": {
     "iopub.execute_input": "2024-01-17T13:03:43.854517Z",
     "iopub.status.busy": "2024-01-17T13:03:43.854157Z",
     "iopub.status.idle": "2024-01-17T13:51:48.864774Z",
     "shell.execute_reply": "2024-01-17T13:51:48.863454Z"
    },
    "papermill": {
     "duration": 2891.719647,
     "end_time": "2024-01-17T13:51:53.819262",
     "exception": false,
     "start_time": "2024-01-17T13:03:42.099615",
     "status": "completed"
    },
    "tags": []
   },
   "outputs": [
    {
     "name": "stdout",
     "output_type": "stream",
     "text": [
      "Epoch 1/46\n",
      "10615/10615 [==============================] - 62s 6ms/step - loss: 0.2024 - accuracy: 0.9237 - val_loss: 0.1162 - val_accuracy: 0.9532\n",
      "Epoch 2/46\n",
      "10615/10615 [==============================] - 62s 6ms/step - loss: 0.1345 - accuracy: 0.9477 - val_loss: 0.0759 - val_accuracy: 0.9783\n",
      "Epoch 3/46\n",
      "10615/10615 [==============================] - 59s 6ms/step - loss: 0.1061 - accuracy: 0.9589 - val_loss: 0.0537 - val_accuracy: 0.9869\n",
      "Epoch 4/46\n",
      "10615/10615 [==============================] - 59s 6ms/step - loss: 0.0880 - accuracy: 0.9660 - val_loss: 0.0424 - val_accuracy: 0.9885\n",
      "Epoch 5/46\n",
      "10615/10615 [==============================] - 59s 6ms/step - loss: 0.0765 - accuracy: 0.9710 - val_loss: 0.0368 - val_accuracy: 0.9895\n",
      "Epoch 6/46\n",
      "10615/10615 [==============================] - 60s 6ms/step - loss: 0.0679 - accuracy: 0.9744 - val_loss: 0.0344 - val_accuracy: 0.9899\n",
      "Epoch 7/46\n",
      "10615/10615 [==============================] - 65s 6ms/step - loss: 0.0616 - accuracy: 0.9767 - val_loss: 0.0299 - val_accuracy: 0.9911\n",
      "Epoch 8/46\n",
      "10615/10615 [==============================] - 66s 6ms/step - loss: 0.0578 - accuracy: 0.9785 - val_loss: 0.0291 - val_accuracy: 0.9909\n",
      "Epoch 9/46\n",
      "10615/10615 [==============================] - 63s 6ms/step - loss: 0.0540 - accuracy: 0.9799 - val_loss: 0.0270 - val_accuracy: 0.9918\n",
      "Epoch 10/46\n",
      "10615/10615 [==============================] - 66s 6ms/step - loss: 0.0515 - accuracy: 0.9808 - val_loss: 0.0275 - val_accuracy: 0.9916\n",
      "Epoch 11/46\n",
      "10615/10615 [==============================] - 69s 6ms/step - loss: 0.0488 - accuracy: 0.9817 - val_loss: 0.0268 - val_accuracy: 0.9923\n",
      "Epoch 12/46\n",
      "10615/10615 [==============================] - 65s 6ms/step - loss: 0.0467 - accuracy: 0.9824 - val_loss: 0.0290 - val_accuracy: 0.9921\n",
      "Epoch 13/46\n",
      "10615/10615 [==============================] - 63s 6ms/step - loss: 0.0456 - accuracy: 0.9830 - val_loss: 0.0286 - val_accuracy: 0.9950\n",
      "Epoch 14/46\n",
      "10615/10615 [==============================] - 53s 5ms/step - loss: 0.0432 - accuracy: 0.9843 - val_loss: 0.0357 - val_accuracy: 0.9946\n",
      "Epoch 15/46\n",
      "10615/10615 [==============================] - 61s 6ms/step - loss: 0.0432 - accuracy: 0.9842 - val_loss: 0.0273 - val_accuracy: 0.9953\n",
      "Epoch 16/46\n",
      "10615/10615 [==============================] - 63s 6ms/step - loss: 0.0404 - accuracy: 0.9851 - val_loss: 0.0273 - val_accuracy: 0.9953\n",
      "Epoch 17/46\n",
      "10615/10615 [==============================] - 60s 6ms/step - loss: 0.0407 - accuracy: 0.9851 - val_loss: 0.0352 - val_accuracy: 0.9957\n",
      "Epoch 18/46\n",
      "10615/10615 [==============================] - 60s 6ms/step - loss: 0.0394 - accuracy: 0.9857 - val_loss: 0.0330 - val_accuracy: 0.9960\n",
      "Epoch 19/46\n",
      "10615/10615 [==============================] - 64s 6ms/step - loss: 0.0388 - accuracy: 0.9859 - val_loss: 0.0515 - val_accuracy: 0.9960\n",
      "Epoch 20/46\n",
      "10615/10615 [==============================] - 60s 6ms/step - loss: 0.0385 - accuracy: 0.9860 - val_loss: 0.0512 - val_accuracy: 0.9963\n",
      "Epoch 21/46\n",
      "10615/10615 [==============================] - 65s 6ms/step - loss: 0.0369 - accuracy: 0.9866 - val_loss: 0.0281 - val_accuracy: 0.9960\n",
      "Epoch 22/46\n",
      "10615/10615 [==============================] - 65s 6ms/step - loss: 0.0373 - accuracy: 0.9866 - val_loss: 0.0454 - val_accuracy: 0.9957\n",
      "Epoch 23/46\n",
      "10615/10615 [==============================] - 61s 6ms/step - loss: 0.0367 - accuracy: 0.9870 - val_loss: 0.0425 - val_accuracy: 0.9955\n",
      "Epoch 24/46\n",
      "10615/10615 [==============================] - 61s 6ms/step - loss: 0.0356 - accuracy: 0.9874 - val_loss: 0.0373 - val_accuracy: 0.9955\n",
      "Epoch 25/46\n",
      "10615/10615 [==============================] - 61s 6ms/step - loss: 0.0361 - accuracy: 0.9871 - val_loss: 0.0313 - val_accuracy: 0.9964\n",
      "Epoch 26/46\n",
      "10615/10615 [==============================] - 62s 6ms/step - loss: 0.0350 - accuracy: 0.9876 - val_loss: 0.0391 - val_accuracy: 0.9961\n",
      "Epoch 27/46\n",
      "10615/10615 [==============================] - 64s 6ms/step - loss: 0.0351 - accuracy: 0.9875 - val_loss: 0.0407 - val_accuracy: 0.9959\n",
      "Epoch 28/46\n",
      "10615/10615 [==============================] - 62s 6ms/step - loss: 0.0342 - accuracy: 0.9877 - val_loss: 0.0311 - val_accuracy: 0.9960\n",
      "Epoch 29/46\n",
      "10615/10615 [==============================] - 61s 6ms/step - loss: 0.0351 - accuracy: 0.9874 - val_loss: 0.0386 - val_accuracy: 0.9961\n",
      "Epoch 30/46\n",
      "10615/10615 [==============================] - 66s 6ms/step - loss: 0.0339 - accuracy: 0.9880 - val_loss: 0.0501 - val_accuracy: 0.9963\n",
      "Epoch 31/46\n",
      "10615/10615 [==============================] - 63s 6ms/step - loss: 0.0338 - accuracy: 0.9879 - val_loss: 0.0481 - val_accuracy: 0.9964\n",
      "Epoch 32/46\n",
      "10615/10615 [==============================] - 67s 6ms/step - loss: 0.0329 - accuracy: 0.9882 - val_loss: 0.0554 - val_accuracy: 0.9958\n",
      "Epoch 33/46\n",
      "10615/10615 [==============================] - 62s 6ms/step - loss: 0.0325 - accuracy: 0.9885 - val_loss: 0.0358 - val_accuracy: 0.9958\n",
      "Epoch 34/46\n",
      "10615/10615 [==============================] - 61s 6ms/step - loss: 0.0330 - accuracy: 0.9883 - val_loss: 0.0550 - val_accuracy: 0.9961\n",
      "Epoch 35/46\n",
      "10615/10615 [==============================] - 61s 6ms/step - loss: 0.0326 - accuracy: 0.9884 - val_loss: 0.0335 - val_accuracy: 0.9956\n",
      "Epoch 36/46\n",
      "10615/10615 [==============================] - 62s 6ms/step - loss: 0.0330 - accuracy: 0.9882 - val_loss: 0.0434 - val_accuracy: 0.9956\n",
      "Epoch 37/46\n",
      "10615/10615 [==============================] - 62s 6ms/step - loss: 0.0321 - accuracy: 0.9887 - val_loss: 0.0381 - val_accuracy: 0.9958\n",
      "Epoch 38/46\n",
      "10615/10615 [==============================] - 60s 6ms/step - loss: 0.0318 - accuracy: 0.9889 - val_loss: 0.0393 - val_accuracy: 0.9958\n",
      "Epoch 39/46\n",
      "10615/10615 [==============================] - 65s 6ms/step - loss: 0.0314 - accuracy: 0.9890 - val_loss: 0.0290 - val_accuracy: 0.9962\n",
      "Epoch 40/46\n",
      "10615/10615 [==============================] - 63s 6ms/step - loss: 0.0315 - accuracy: 0.9890 - val_loss: 0.0389 - val_accuracy: 0.9955\n",
      "Epoch 41/46\n",
      "10615/10615 [==============================] - 66s 6ms/step - loss: 0.0312 - accuracy: 0.9893 - val_loss: 0.0351 - val_accuracy: 0.9957\n",
      "Epoch 42/46\n",
      "10615/10615 [==============================] - 63s 6ms/step - loss: 0.0313 - accuracy: 0.9890 - val_loss: 0.0362 - val_accuracy: 0.9951\n",
      "Epoch 43/46\n",
      "10615/10615 [==============================] - 67s 6ms/step - loss: 0.0310 - accuracy: 0.9893 - val_loss: 0.0372 - val_accuracy: 0.9959\n",
      "Epoch 44/46\n",
      "10615/10615 [==============================] - 63s 6ms/step - loss: 0.0309 - accuracy: 0.9890 - val_loss: 0.0368 - val_accuracy: 0.9965\n",
      "Epoch 45/46\n",
      "10615/10615 [==============================] - 67s 6ms/step - loss: 0.0308 - accuracy: 0.9894 - val_loss: 0.0557 - val_accuracy: 0.9949\n",
      "Epoch 46/46\n",
      "10615/10615 [==============================] - 63s 6ms/step - loss: 0.0305 - accuracy: 0.9895 - val_loss: 0.0326 - val_accuracy: 0.9959\n"
     ]
    }
   ],
   "source": [
    "model2 = CONVNETS(X_train2.shape[1])\n",
    "resampled_history = model2.fit(X_train2, y_train_encoded2)"
   ]
  },
  {
   "cell_type": "code",
   "execution_count": 34,
   "id": "71401693",
   "metadata": {
    "execution": {
     "iopub.execute_input": "2024-01-17T13:52:03.987878Z",
     "iopub.status.busy": "2024-01-17T13:52:03.986647Z",
     "iopub.status.idle": "2024-01-17T13:52:04.436241Z",
     "shell.execute_reply": "2024-01-17T13:52:04.435143Z"
    },
    "papermill": {
     "duration": 5.494474,
     "end_time": "2024-01-17T13:52:04.438447",
     "exception": false,
     "start_time": "2024-01-17T13:51:58.943973",
     "status": "completed"
    },
    "tags": []
   },
   "outputs": [
    {
     "data": {
      "image/png": "[encoded data removed]",
      "text/plain": [
       "<Figure size 1200x400 with 2 Axes>"
      ]
     },
     "metadata": {},
     "output_type": "display_data"
    }
   ],
   "source": [
    "train_loss = resampled_history.history['loss']\n",
    "train_accuracy = resampled_history.history['accuracy']\n",
    "val_loss = resampled_history.history['val_loss']\n",
    "val_accuracy = resampled_history.history['val_accuracy']\n",
    "plot_loss_and_accuracy(train_loss, val_loss, train_accuracy, val_accuracy)"
   ]
  },
  {
   "cell_type": "markdown",
   "id": "70ce4038",
   "metadata": {
    "papermill": {
     "duration": 4.998841,
     "end_time": "2024-01-17T13:52:14.684271",
     "exception": false,
     "start_time": "2024-01-17T13:52:09.685430",
     "status": "completed"
    },
    "tags": []
   },
   "source": [
    "### F1, Precision, and Recall Metrics"
   ]
  },
  {
   "cell_type": "code",
   "execution_count": 35,
   "id": "93f4b77b",
   "metadata": {
    "execution": {
     "iopub.execute_input": "2024-01-17T13:52:24.807059Z",
     "iopub.status.busy": "2024-01-17T13:52:24.805933Z",
     "iopub.status.idle": "2024-01-17T13:52:33.793999Z",
     "shell.execute_reply": "2024-01-17T13:52:33.792781Z"
    },
    "papermill": {
     "duration": 13.987724,
     "end_time": "2024-01-17T13:52:33.796271",
     "exception": false,
     "start_time": "2024-01-17T13:52:19.808547",
     "status": "completed"
    },
    "tags": []
   },
   "outputs": [
    {
     "name": "stdout",
     "output_type": "stream",
     "text": [
      "3539/3539 [==============================] - 7s 2ms/step\n",
      "Classification Report:\n",
      "              precision    recall  f1-score   support\n",
      "\n",
      "         0.0       1.00      0.99      1.00     56303\n",
      "         1.0       0.99      1.00      1.00     56916\n",
      "\n",
      "    accuracy                           1.00    113219\n",
      "   macro avg       1.00      1.00      1.00    113219\n",
      "weighted avg       1.00      1.00      1.00    113219\n",
      "\n"
     ]
    }
   ],
   "source": [
    "probabilities = model2.predict(X_test2)\n",
    "binary_predictions_resampled = np.argmax(probabilities, axis=1)\n",
    "print(\"Classification Report:\")\n",
    "print(classification_report(y_test2, binary_predictions_resampled))"
   ]
  },
  {
   "cell_type": "code",
   "execution_count": 36,
   "id": "4ae3f272",
   "metadata": {
    "execution": {
     "iopub.execute_input": "2024-01-17T13:52:44.024754Z",
     "iopub.status.busy": "2024-01-17T13:52:44.024284Z",
     "iopub.status.idle": "2024-01-17T13:52:44.232993Z",
     "shell.execute_reply": "2024-01-17T13:52:44.232055Z"
    },
    "papermill": {
     "duration": 5.189392,
     "end_time": "2024-01-17T13:52:44.235146",
     "exception": false,
     "start_time": "2024-01-17T13:52:39.045754",
     "status": "completed"
    },
    "tags": []
   },
   "outputs": [
    {
     "name": "stdout",
     "output_type": "stream",
     "text": [
      "Accuracy: 0.9958\n",
      "Overall Precision: 0.9916\n",
      "Recall: 1.0000\n",
      "F1-score: 0.9958\n"
     ]
    }
   ],
   "source": [
    "print(f\"Accuracy: {accuracy_score(y_test2, binary_predictions_resampled):.4f}\")\n",
    "print(f\"Overall Precision: {precision_score(y_test2, binary_predictions_resampled):.4f}\")\n",
    "print(f\"Recall: {recall_score(y_test2, binary_predictions_resampled):.4f}\")\n",
    "print(f\"F1-score: {f1_score(y_test2, binary_predictions_resampled):.4f}\")"
   ]
  },
  {
   "cell_type": "markdown",
   "id": "0bac0f16",
   "metadata": {
    "papermill": {
     "duration": 5.134485,
     "end_time": "2024-01-17T13:52:54.501676",
     "exception": false,
     "start_time": "2024-01-17T13:52:49.367191",
     "status": "completed"
    },
    "tags": []
   },
   "source": [
    "### Confucsion Matrix"
   ]
  },
  {
   "cell_type": "code",
   "execution_count": 37,
   "id": "fd6ac0c3",
   "metadata": {
    "execution": {
     "iopub.execute_input": "2024-01-17T13:53:04.665375Z",
     "iopub.status.busy": "2024-01-17T13:53:04.664597Z",
     "iopub.status.idle": "2024-01-17T13:53:04.776183Z",
     "shell.execute_reply": "2024-01-17T13:53:04.774979Z"
    },
    "papermill": {
     "duration": 5.283456,
     "end_time": "2024-01-17T13:53:04.778867",
     "exception": false,
     "start_time": "2024-01-17T13:52:59.495411",
     "status": "completed"
    },
    "tags": []
   },
   "outputs": [
    {
     "name": "stdout",
     "output_type": "stream",
     "text": [
      "[[55822   481]\n",
      " [    0 56916]]\n"
     ]
    }
   ],
   "source": [
    "confusion_m = confusion_matrix(y_test2, binary_predictions_resampled)\n",
    "print(confusion_m)"
   ]
  },
  {
   "cell_type": "code",
   "execution_count": 38,
   "id": "ce59ff8b",
   "metadata": {
    "execution": {
     "iopub.execute_input": "2024-01-17T13:53:14.906468Z",
     "iopub.status.busy": "2024-01-17T13:53:14.906056Z",
     "iopub.status.idle": "2024-01-17T13:53:15.137741Z",
     "shell.execute_reply": "2024-01-17T13:53:15.136482Z"
    },
    "papermill": {
     "duration": 5.220151,
     "end_time": "2024-01-17T13:53:15.140184",
     "exception": false,
     "start_time": "2024-01-17T13:53:09.920033",
     "status": "completed"
    },
    "tags": []
   },
   "outputs": [
    {
     "data": {
      "text/plain": [
       "<Axes: >"
      ]
     },
     "execution_count": 38,
     "metadata": {},
     "output_type": "execute_result"
    },
    {
     "data": {
      "image/png": "[encoded data removed]",
      "text/plain": [
       "<Figure size 640x480 with 2 Axes>"
      ]
     },
     "metadata": {},
     "output_type": "display_data"
    }
   ],
   "source": [
    "sns.heatmap(confusion_m, annot=True, linecolor='white', linewidths=1)"
   ]
  }
 ],
 "metadata": {
  "kaggle": {
   "accelerator": "none",
   "dataSources": [
    {
     "datasetId": 310,
     "sourceId": 23498,
     "sourceType": "datasetVersion"
    }
   ],
   "dockerImageVersionId": 30626,
   "isGpuEnabled": false,
   "isInternetEnabled": false,
   "language": "python",
   "sourceType": "notebook"
  },
  "kernelspec": {
   "display_name": "Python 3",
   "language": "python",
   "name": "python3"
  },
  "language_info": {
   "codemirror_mode": {
    "name": "ipython",
    "version": 3
   },
   "file_extension": ".py",
   "mimetype": "text/x-python",
   "name": "python",
   "nbconvert_exporter": "python",
   "pygments_lexer": "ipython3",
   "version": "3.10.12"
  },
  "papermill": {
   "default_parameters": {},
   "duration": 4555.047651,
   "end_time": "2024-01-17T13:53:23.562863",
   "environment_variables": {},
   "exception": null,
   "input_path": "__notebook__.ipynb",
   "output_path": "__notebook__.ipynb",
   "parameters": {},
   "start_time": "2024-01-17T12:37:28.515212",
   "version": "2.4.0"
  }
 },
 "nbformat": 4,
 "nbformat_minor": 5
}
